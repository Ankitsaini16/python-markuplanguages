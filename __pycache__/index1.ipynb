{
 "cells": [
  {
   "cell_type": "code",
   "execution_count": null,
   "metadata": {},
   "outputs": [],
   "source": [
    "a=10 \n",
    "a"
   ]
  },
  {
   "cell_type": "code",
   "execution_count": null,
   "metadata": {},
   "outputs": [],
   "source": [
    "test_string1=\"welcome\"\n",
    "test_string2=\"I have $3\"\n",
    "test_string3=\"With a function its efficient to reppeat code\"\n",
    "\n",
    "def we_start_test(string_test):\n",
    "    if string_test.startswith('w'):\n",
    "        print(string_test,\"-starts witn w\")\n",
    "    else:\n",
    "        print(string_test,\"- not starts with w\")\n",
    "\n",
    "we_start_test(test_string1)\n",
    "we_start_test(test_string2)\n",
    "we_start_test(test_string3)\n"
   ]
  },
  {
   "cell_type": "code",
   "execution_count": null,
   "metadata": {},
   "outputs": [],
   "source": [
    "str1=\"hopingyhfyjfhgf\"\n",
    "str2=\"minds\"\n",
    "str1>str2"
   ]
  },
  {
   "cell_type": "code",
   "execution_count": null,
   "metadata": {},
   "outputs": [],
   "source": [
    "x=18\n",
    "if x+18==x+x:\n",
    "    print(\"pass:x+18 is equal to\",x+x)\n",
    "else:\n",
    "    print(\"pass:x+18 is not equal to\",x+x)"
   ]
  },
  {
   "cell_type": "code",
   "execution_count": null,
   "metadata": {
    "tags": []
   },
   "outputs": [],
   "source": [
    "num1=int(input(\"enter first numer\"))\n",
    "num2=int(input(\"enter second number\"))\n",
    "operator=input(\"enter the operator\")\n",
    "if operator==\"+\":\n",
    "    answer=num1+num2\n",
    "elif operator==\"*\":\n",
    "    answer=num1*num2\n",
    "elif operator==\"-\":\n",
    "    answer=num1-num2\n",
    "elif operator==\"/\":\n",
    "    answer=num1/num2\n",
    "else:\n",
    "    print(\"please enter valid operator\")\n",
    "print(answer)"
   ]
  },
  {
   "cell_type": "code",
   "execution_count": null,
   "metadata": {},
   "outputs": [],
   "source": [
    "zone=input(\"enter you zone\")\n",
    "if zone==\"zone1\":\n",
    "    print(\"please wait\")\n",
    "elif zone==\"zone2\":\n",
    "    print(\"please stop\")\n",
    "else:\n",
    "    print(\"cghvcghcfg\")\n",
    "\n"
   ]
  },
  {
   "cell_type": "code",
   "execution_count": null,
   "metadata": {},
   "outputs": [],
   "source": [
    "birds = \"eagle dove turkey\"\n",
    "\n",
    "bird_guess = input(\"Guess a bird name: \")\n",
    "\n",
    "if (bird_guess.lower() in birds) == False:\n",
    "    print(\"No, not thinking of\",bird_guess)\n",
    "    \n",
    "    bird_guess = input(\"Guess another bird name: \")\n",
    "    if (bird_guess.lower() in birds) == False:\n",
    "        print(\"No, not thinking of\",bird_guess)\n",
    "        print()\n",
    "        bird_guess = input(\"Guess another bird name: \")\n",
    "        if (bird_guess.lower() in birds) == False:\n",
    "            print(\"No, not thinking of\",bird_guess)\n",
    "            print(\"Game Over\")\n",
    "        else:\n",
    "            print(\"Finally, third guess\",bird_guess,\"is correct\")\n",
    "\n",
    "    else:\n",
    "        print(\"OK, second guess\",bird_guess,\"is correct\")\n",
    "\n",
    "else:\n",
    "    print(\"Wow, first guess\",bird_guess,\"is correct\")"
   ]
  },
  {
   "cell_type": "code",
   "execution_count": null,
   "metadata": {},
   "outputs": [],
   "source": [
    "i=\"python\"\n",
    "for t in i:\n",
    "    print(t)"
   ]
  },
  {
   "cell_type": "code",
   "execution_count": null,
   "metadata": {},
   "outputs": [],
   "source": [
    "#use of forloop in python\n",
    "for x in range(2, 30, 3):\n",
    "  print(x)"
   ]
  },
  {
   "cell_type": "code",
   "execution_count": null,
   "metadata": {},
   "outputs": [],
   "source": [
    "#use of while loop in python\n",
    "a=0\n",
    "while a<10:\n",
    "    print(a)\n",
    "    a=a+1"
   ]
  },
  {
   "cell_type": "code",
   "execution_count": null,
   "metadata": {},
   "outputs": [],
   "source": [
    "#use of lamda in python\n",
    "a=lambda x,y,z:x+y+z\n",
    "print(a(5,6,9))"
   ]
  },
  {
   "cell_type": "code",
   "execution_count": null,
   "metadata": {},
   "outputs": [],
   "source": [
    "#use of class in python\n",
    "class myclass:\n",
    "    x=5\n"
   ]
  },
  {
   "cell_type": "code",
   "execution_count": null,
   "metadata": {},
   "outputs": [],
   "source": [
    "#python list or array\n",
    "fruits=[\"apple\",\"banana\",\"orange\", \"kiwi\", \"melon\", \"mango\"]\n",
    "#list are changeable\n",
    "fruits[1]=\"kiwi\"\n",
    "#to print the list\n",
    "print(fruits)\n",
    "#access the items in the list\n",
    "print(fruits[0])\n",
    "#access the items from last in the list\n",
    "print(fruits[-1])\n",
    "#access the items in the list using range\n",
    "print(fruits[2:5])\n",
    "#lets use \"in\" in list\n",
    "if \"apple\" in fruits:\n",
    "    print(\"yes\")\n"
   ]
  },
  {
   "cell_type": "code",
   "execution_count": 4,
   "metadata": {},
   "outputs": [
    {
     "name": "stdout",
     "output_type": "stream",
     "text": [
      "('apple', 'banana', 'orange', 'kiwi', 'melon', 'mango')\n"
     ]
    }
   ],
   "source": [
    "#python tupples\n",
    "fruits=(\"apple\",\"banana\",\"orange\", \"kiwi\", \"melon\", \"mango\")\n",
    "#tupples are immutable or unchangeable as the below code will not work\n",
    "# fruits[1]=\"potato\"\n",
    "print(fruits)"
   ]
  },
  {
   "cell_type": "code",
   "execution_count": 3,
   "metadata": {},
   "outputs": [
    {
     "name": "stdout",
     "output_type": "stream",
     "text": [
      "Nep\n"
     ]
    }
   ],
   "source": [
    "planet_name = \"Neptune\"\n",
    "print(planet_name[0:3])"
   ]
  },
  {
   "cell_type": "code",
   "execution_count": null,
   "metadata": {},
   "outputs": [],
   "source": []
  }
 ],
 "metadata": {
  "kernelspec": {
   "display_name": "Python 3",
   "language": "python",
   "name": "python3"
  },
  "language_info": {
   "codemirror_mode": {
    "name": "ipython",
    "version": 3
   },
   "file_extension": ".py",
   "mimetype": "text/x-python",
   "name": "python",
   "nbconvert_exporter": "python",
   "pygments_lexer": "ipython3",
   "version": "3.10.10"
  },
  "orig_nbformat": 4,
  "vscode": {
   "interpreter": {
    "hash": "8a0b14c772f190ebb6bbf2f83cdd81d59d3d34c403400bf1214e4b9c72b50f24"
   }
  }
 },
 "nbformat": 4,
 "nbformat_minor": 2
}
