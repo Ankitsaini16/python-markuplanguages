{
 "cells": [
  {
   "cell_type": "code",
   "execution_count": null,
   "metadata": {},
   "outputs": [],
   "source": [
    "# import requests\n",
    "\n",
    "pin=int(input(\"enter atm pin\"))\n",
    "pin1=1100\n",
    "count=0\n",
    "for i in range(0,3,1):\n",
    "    if(pin==pin1):\n",
    "        print(\"you are successfully enter\")\n",
    "        break\n",
    "    else:\n",
    "        count=count+1\n",
    "        print(\"wrong pin\")\n",
    "        pin=int(input(\"enter pin again\"))\n",
    "if(count==3):\n",
    "   print(\"your card is blocked\")"
   ]
  },
  {
   "attachments": {},
   "cell_type": "markdown",
   "metadata": {},
   "source": [
    "OPEN API EXAMPLES"
   ]
  },
  {
   "cell_type": "code",
   "execution_count": null,
   "metadata": {},
   "outputs": [],
   "source": [
    "#get put post delete\n",
    "import requests\n",
    "import json\n",
    "response_API = requests.get('http://api.open-notify.org/astros.json')\n",
    "\n",
    "#status_code of response\n",
    "print(response_API.status_code)\n",
    "#to check the response\n",
    "print(response_API.ok)\n",
    "#to check the headers\n",
    "print(response_API.headers)\n",
    "#to check the content\n",
    "print(response_API.content)\n",
    "#to check in json form\n",
    "print(response_API.json())\n",
    "#to check its url\n",
    "print(response_API.url)\n",
    "\n"
   ]
  },
  {
   "cell_type": "code",
   "execution_count": null,
   "metadata": {},
   "outputs": [],
   "source": [
    "import requests\n",
    "\n",
    "response = requests.get(\"http://api.open-notify.org/iss-now.json\")\n",
    "\n",
    "#Server's response will be sent in status_code\n",
    "print(response.json())"
   ]
  },
  {
   "cell_type": "code",
   "execution_count": null,
   "metadata": {},
   "outputs": [],
   "source": [
    "import requests\n",
    "\n",
    "url = \"https://api.nationalize.io\"\n",
    "\n",
    "response = requests.get(\"https://api.nationalize.io?name=ankitsaini\")\n",
    "print(response.content)"
   ]
  },
  {
   "cell_type": "code",
   "execution_count": null,
   "metadata": {},
   "outputs": [],
   "source": [
    "from flask import Flask\n",
    "app=Flask(__name__)\n",
    "@app.route('/')\n",
    "def func1():\n",
    "    return 'Hello World ankit saini is here'\n",
    "app.run()"
   ]
  },
  {
   "cell_type": "code",
   "execution_count": 2,
   "metadata": {},
   "outputs": [
    {
     "name": "stdout",
     "output_type": "stream",
     "text": [
      " * Serving Flask app '__main__'\n",
      " * Debug mode: off\n"
     ]
    },
    {
     "name": "stderr",
     "output_type": "stream",
     "text": [
      "WARNING: This is a development server. Do not use it in a production deployment. Use a production WSGI server instead.\n",
      " * Running on http://127.0.0.1:5000\n",
      "Press CTRL+C to quit\n",
      "127.0.0.1 - - [20/Feb/2023 14:43:36] \"GET / HTTP/1.1\" 200 -\n"
     ]
    }
   ],
   "source": [
    "from flask import *\n",
    "import json,time\n",
    "app = Flask(__name__)\n",
    "@app.route('/',methods=['GET'])\n",
    "\n",
    "def home_page():\n",
    "  data_set = {'Page':'Home','Timestamp':time.time()}\n",
    "  json_dump = json.dumps(data_set)\n",
    "  return json_dump\n",
    "\n",
    "@app.route('/myapi/',methods=['GET'])\n",
    "\n",
    "def request_page():\n",
    "  user_query = str(request.args.get('user'))\n",
    "\n",
    "  data_set = {'Page':'Home','Message': f'Hello{user_query}', 'Timestamp':time.time()}\n",
    "  json_dump = json.dumps(data_set)\n",
    "  return json_dump\n",
    "\n",
    "if __name__ == '__main__':\n",
    "  app.run()"
   ]
  },
  {
   "cell_type": "code",
   "execution_count": null,
   "metadata": {},
   "outputs": [],
   "source": []
  }
 ],
 "metadata": {
  "kernelspec": {
   "display_name": "Python 3",
   "language": "python",
   "name": "python3"
  },
  "language_info": {
   "codemirror_mode": {
    "name": "ipython",
    "version": 3
   },
   "file_extension": ".py",
   "mimetype": "text/x-python",
   "name": "python",
   "nbconvert_exporter": "python",
   "pygments_lexer": "ipython3",
   "version": "3.10.10"
  },
  "orig_nbformat": 4,
  "vscode": {
   "interpreter": {
    "hash": "8a0b14c772f190ebb6bbf2f83cdd81d59d3d34c403400bf1214e4b9c72b50f24"
   }
  }
 },
 "nbformat": 4,
 "nbformat_minor": 2
}
