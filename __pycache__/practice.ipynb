{
 "cells": [
  {
   "cell_type": "code",
   "execution_count": null,
   "metadata": {},
   "outputs": [],
   "source": [
    "import json\n",
    "f=open(\"task1[1].json\")\n",
    "data=json.load(f)\n",
    "# print(data)\n",
    "for key in data:\n",
    "    print(key,\":\",data[key])"
   ]
  },
  {
   "cell_type": "code",
   "execution_count": null,
   "metadata": {},
   "outputs": [],
   "source": [
    "import json\n",
    "f=open(\"task3[1].json\")\n",
    "data=json.load(f)\n",
    "for i in data:\n",
    "    print(\"------------\")\n",
    "    for k in i:\n",
    "        print(k,\":\",i[k])"
   ]
  },
  {
   "cell_type": "code",
   "execution_count": null,
   "metadata": {},
   "outputs": [],
   "source": [
    "import json\n",
    "f=open(\"practice1.json\")\n",
    "data=json.load(f)\n",
    "for i in data:\n",
    "    print(\"------------\")\n",
    "    for k in i:\n",
    "        print(k,\":\",i[k])\n"
   ]
  },
  {
   "cell_type": "code",
   "execution_count": null,
   "metadata": {},
   "outputs": [],
   "source": [
    "import json\n",
    "j_str={'4':\"wednesday\",'6':\"friday\",'1':\"Friday\",'2':\"monday\"}\n",
    "print(\"original string\")\n",
    "print(j_str)\n",
    "print(\"\\nJSON data\")\n",
    "print(json.dumps(j_str,sort_keys=True,indent=4))#here dumps is used to convert python dictionary to json"
   ]
  },
  {
   "cell_type": "code",
   "execution_count": null,
   "metadata": {},
   "outputs": [],
   "source": [
    "import yaml\n",
    "\n",
    "file = open(\"config[1].yaml\")\n",
    "data = yaml.safe_load(file)\n",
    "print(data)"
   ]
  },
  {
   "cell_type": "code",
   "execution_count": null,
   "metadata": {},
   "outputs": [],
   "source": [
    "import yaml\n",
    "file=open(\"practiceyaml.yaml\")\n",
    "data=yaml.safe_load(file)\n",
    "print(data)"
   ]
  },
  {
   "cell_type": "code",
   "execution_count": null,
   "metadata": {},
   "outputs": [],
   "source": [
    "import yaml\n",
    "members={\"people\":[{'name':'ram','occupation':'doctor'},{'name':'zara','occupation':'dentist'}]}\n",
    "print(yaml.dump(members))"
   ]
  },
  {
   "cell_type": "code",
   "execution_count": null,
   "metadata": {},
   "outputs": [],
   "source": []
  }
 ],
 "metadata": {
  "kernelspec": {
   "display_name": "Python 3",
   "language": "python",
   "name": "python3"
  },
  "language_info": {
   "codemirror_mode": {
    "name": "ipython",
    "version": 3
   },
   "file_extension": ".py",
   "mimetype": "text/x-python",
   "name": "python",
   "nbconvert_exporter": "python",
   "pygments_lexer": "ipython3",
   "version": "3.10.10"
  },
  "orig_nbformat": 4,
  "vscode": {
   "interpreter": {
    "hash": "8a0b14c772f190ebb6bbf2f83cdd81d59d3d34c403400bf1214e4b9c72b50f24"
   }
  }
 },
 "nbformat": 4,
 "nbformat_minor": 2
}
