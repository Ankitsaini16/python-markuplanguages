{
 "cells": [
  {
   "cell_type": "code",
   "execution_count": null,
   "metadata": {},
   "outputs": [],
   "source": [
    "str=\"xyz\"\n",
    "for x in str:\n",
    "    print (x)"
   ]
  },
  {
   "cell_type": "code",
   "execution_count": null,
   "metadata": {},
   "outputs": [],
   "source": [
    "word=input(\"enter a word\")\n",
    "for i in word[:3]:\n",
    "    print(i)"
   ]
  },
  {
   "cell_type": "code",
   "execution_count": null,
   "metadata": {},
   "outputs": [],
   "source": [
    "#count,find function\n",
    "word=\"xyz\"\n",
    "word.count(\"x\")\n",
    "word.find(\"x\")"
   ]
  },
  {
   "cell_type": "code",
   "execution_count": null,
   "metadata": {},
   "outputs": [],
   "source": [
    "name=\"skype\"\n",
    "new_name=\"\"\n",
    "for x in name:\n",
    "    if x==\"y\":\n",
    "        new_name=new_name+x.upper()\n",
    "    else:\n",
    "        new_name=new_name+x\n",
    "\n",
    "print(name,\"to\",new_name)\n"
   ]
  },
  {
   "cell_type": "code",
   "execution_count": null,
   "metadata": {},
   "outputs": [],
   "source": [
    "name=\"ordinary\"\n",
    "new_name=\"\"\n",
    "for x in name:\n",
    "    if x == \"o\" or x==\"i\":\n",
    "        new_name += x.upper()\n",
    "    else:\n",
    "        new_name += x\n",
    "print(name,\"to\",new_name)\n"
   ]
  },
  {
   "cell_type": "code",
   "execution_count": null,
   "metadata": {},
   "outputs": [],
   "source": [
    "c=\"jaguar,alto,mercedez,rolls royace\"\n",
    "print(len(c))\n",
    "print(c[0])"
   ]
  },
  {
   "cell_type": "code",
   "execution_count": null,
   "metadata": {},
   "outputs": [],
   "source": [
    "s=\"skye\"\n",
    "s[2::-1]"
   ]
  },
  {
   "cell_type": "code",
   "execution_count": null,
   "metadata": {},
   "outputs": [],
   "source": [
    "a=\"save your code\"\n",
    "print(a.find(\"u\",3,9))\n",
    "print(a.find(\"z\"))\n",
    "print(a.find(\"e\",4))"
   ]
  },
  {
   "cell_type": "code",
   "execution_count": null,
   "metadata": {},
   "outputs": [],
   "source": [
    "wt=\"good code has meaningful variable names\"\n",
    "location=wt.find(\"o\")\n",
    "while location>=0:\n",
    "     print(\"o is at index\",location)\n",
    "     location=wt.find(\"o\",location+1)\n",
    "    \n"
   ]
  },
  {
   "cell_type": "code",
   "execution_count": null,
   "metadata": {},
   "outputs": [],
   "source": [
    "#list in python\n",
    "cars=[\"mercedez\",\"ferari\"]\n",
    "cars[0]=\"maruti800\"\n",
    "cars[1]=\"porsche\"\n",
    "cars.insert(2,\"alto\")\n",
    "print(cars)"
   ]
  },
  {
   "cell_type": "code",
   "execution_count": null,
   "metadata": {},
   "outputs": [],
   "source": [
    "city_list=[\"mumbai\",\"pune\",\"kolkata\",\"mohali\",\"chandigarh\",\"chennai\"]\n",
    "city_to_find=input(\"enter the city\")\n",
    "\n",
    "if city_to_find in city_list:\n",
    "    city_list.remove(city_to_find)\n",
    "    print(city_list)\n",
    "\n",
    "else:\n",
    "    print(\"sorry your city is not found\")\n"
   ]
  },
  {
   "cell_type": "code",
   "execution_count": null,
   "metadata": {},
   "outputs": [],
   "source": [
    "def three_num(three_num,index):\n",
    "    if three_num[index]<5:\n",
    "        three_num[index]=\"small\"\n",
    "    else:\n",
    "        three_num[index]=\"big\"\n",
    "    \n",
    "    print(three_num)\n",
    "\n",
    "three_num([3,5,6,9,13,1],5)"
   ]
  },
  {
   "cell_type": "code",
   "execution_count": null,
   "metadata": {},
   "outputs": [],
   "source": [
    "purchase_amount=[]\n",
    "total=0\n",
    "while True:\n",
    "    item_price=input(\"enter price or done\")\n",
    "    if item_price.lower().startswith(\"d\"):\n",
    "        break\n",
    "    else:\n",
    "        purchase_amount.append(int(item_price))\n",
    "        total+=int(item_price)\n",
    "print(\"purchase amount is\",purchase_amount)\n",
    "print(\"total is\",total)\n",
    "       "
   ]
  },
  {
   "cell_type": "code",
   "execution_count": null,
   "metadata": {},
   "outputs": [],
   "source": [
    "num_list=[1,3,4,5,6,7,8,8,9,10]\n",
    "sum=0\n",
    "for i in num_list:\n",
    "    sum=sum+i\n",
    "    # print(sum)\n",
    "\n",
    "print (sum)"
   ]
  },
  {
   "cell_type": "code",
   "execution_count": null,
   "metadata": {},
   "outputs": [],
   "source": [
    "for x in range(27, 270, 27):\n",
    "  print(x)"
   ]
  },
  {
   "cell_type": "code",
   "execution_count": null,
   "metadata": {},
   "outputs": [],
   "source": [
    "pc=[\"red\",\"blue\",\"green\"]\n",
    "status=\"not found\"\n",
    "cr=input(\"enter color\")\n",
    "for x in pc:\n",
    "    if cr.lower()==x.lower():\n",
    "        status=\"found\"\n",
    "        break\n",
    "    else:\n",
    "        pass\n",
    "\n",
    "print(status)\n"
   ]
  },
  {
   "cell_type": "code",
   "execution_count": null,
   "metadata": {},
   "outputs": [],
   "source": [
    "even=[]\n",
    "odd=[]\n",
    "for i in range(0,100):\n",
    "    if i%2==0:\n",
    "        even.append(i)\n",
    "    else:\n",
    "        odd.append(i)\n",
    "\n",
    "print(odd)\n",
    "print(even)"
   ]
  },
  {
   "cell_type": "code",
   "execution_count": null,
   "metadata": {},
   "outputs": [],
   "source": [
    "sub_total=0\n",
    "temp=0\n",
    "for i in range(5,11):\n",
    "    temp=sub_total\n",
    "    sub_total=sub_total+i\n",
    "    print(\"sub total\",temp,\"+\",i,\"=\",sub_total)\n",
    "\n",
    "print(sub_total)"
   ]
  },
  {
   "cell_type": "code",
   "execution_count": 6,
   "metadata": {},
   "outputs": [
    {
     "name": "stdout",
     "output_type": "stream",
     "text": [
      "my name is tarun\n",
      "\n"
     ]
    },
    {
     "name": "stderr",
     "output_type": "stream",
     "text": [
      "  % Total    % Received % Xferd  Average Speed   Time    Time     Time  Current\n",
      "                                 Dload  Upload   Total   Spent    Left  Speed\n",
      "\n",
      "  0     0    0     0    0     0      0      0 --:--:-- --:--:-- --:--:--     0\n",
      "100    77  100    77    0     0    255      0 --:--:-- --:--:-- --:--:--   257\n"
     ]
    }
   ],
   "source": [
    "#File handling\n",
    "!curl https://raw.githubusercontent.com/tarun908/sample/main/sample.txt -o sample.txt\n",
    "f=open(\"sample.txt\",\"r\")\n",
    "result=f.readline()\n",
    "print (result)\n",
    "# for f in result:\n",
    "#     print(f)\n",
    "# data=f.read(10)\n",
    "# print(data.upper())\n",
    "\n"
   ]
  },
  {
   "cell_type": "code",
   "execution_count": 9,
   "metadata": {},
   "outputs": [
    {
     "data": {
      "text/plain": [
       "'hsraivar'"
      ]
     },
     "execution_count": 9,
     "metadata": {},
     "output_type": "execute_result"
    }
   ],
   "source": [
    "a=\"raviarsh\"\n",
    "a[::-1]"
   ]
  },
  {
   "cell_type": "code",
   "execution_count": null,
   "metadata": {},
   "outputs": [],
   "source": []
  }
 ],
 "metadata": {
  "kernelspec": {
   "display_name": "Python 3",
   "language": "python",
   "name": "python3"
  },
  "language_info": {
   "codemirror_mode": {
    "name": "ipython",
    "version": 3
   },
   "file_extension": ".py",
   "mimetype": "text/x-python",
   "name": "python",
   "nbconvert_exporter": "python",
   "pygments_lexer": "ipython3",
   "version": "3.10.10"
  },
  "orig_nbformat": 4,
  "vscode": {
   "interpreter": {
    "hash": "8a0b14c772f190ebb6bbf2f83cdd81d59d3d34c403400bf1214e4b9c72b50f24"
   }
  }
 },
 "nbformat": 4,
 "nbformat_minor": 2
}
