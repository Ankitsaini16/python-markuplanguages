{
 "cells": [
  {
   "cell_type": "code",
   "execution_count": 1,
   "metadata": {},
   "outputs": [
    {
     "name": "stdout",
     "output_type": "stream",
     "text": [
      "{'author': 'pak', 'database': {'driver': 'com.mysql.jdbc.Driver', 'port': 3306, 'dbname': 'mydb', 'username': 'root', 'password': None}}\n"
     ]
    }
   ],
   "source": [
    "import yaml\n",
    "\n",
    "file = open(\"config[1].yaml\")\n",
    "data = yaml.safe_load(file)\n",
    "print(data)"
   ]
  },
  {
   "cell_type": "code",
   "execution_count": null,
   "metadata": {},
   "outputs": [],
   "source": [
    "import yaml\n",
    "# dict object\n",
    "members = {\"people\" : [{'name': 'Ram', 'occupation': 'Doctor'},\n",
    "           {'name': 'Zaara', 'occupation': 'Dentist'}]}\n",
    "#Open a file in which yaml contents to be written\n",
    "f = open(\"new_test.yaml\",\"w\")\n",
    "#Dump contents\n",
    "yaml.dump(members,f)"
   ]
  },
  {
   "cell_type": "code",
   "execution_count": null,
   "metadata": {},
   "outputs": [],
   "source": [
    "import json\n",
    "f = open('config[1].yaml')\n",
    "#It returns JSON object as dictionary\n",
    "data = json.load(f)\n",
    "print(data)\n",
    "\n",
    "#Iterating through keys in dictionary and printing value associated with each key\n",
    "for key in data:\n",
    "  print(key,'-',data[key])"
   ]
  },
  {
   "cell_type": "code",
   "execution_count": 5,
   "metadata": {},
   "outputs": [
    {
     "name": "stdout",
     "output_type": "stream",
     "text": [
      "______\n",
      "moviename - Pathaan\n",
      "releaseDate - 25-01-2023\n",
      "actor - Shah Rukh Khan\n",
      "actress - Deepika Padukone\n",
      "duration - 146\n",
      "language - Hindi\n",
      "3D - False\n",
      "______\n",
      "moviename - Avatar 2\n",
      "releaseDate - 16-12-2022\n",
      "actor - Sam\n",
      "actress - Zoe\n",
      "duration - 192\n",
      "language - English\n",
      "3D - True\n",
      "______\n",
      "moviename - Ved\n",
      "releaseDate - 30-12-2022\n",
      "actor - Ritesh\n",
      "actress - Jenelia\n",
      "duration - 192\n",
      "language - Marathi\n",
      "3D - False\n"
     ]
    }
   ],
   "source": [
    "import json\n",
    "f = open('task2[1].json')\n",
    "\n",
    "#It returns JSON object as list of dictionary\n",
    "data = json.load(f)\n",
    "\n",
    "#Iterating through list.\n",
    "#Each item in list is a dictionary. Then iterate through keys of dictionary\n",
    "for item in data:\n",
    "  print(\"______\")\n",
    "  for k in item:\n",
    "    print(k,'-',item[k])"
   ]
  },
  {
   "cell_type": "code",
   "execution_count": null,
   "metadata": {},
   "outputs": [],
   "source": []
  }
 ],
 "metadata": {
  "kernelspec": {
   "display_name": "Python 3",
   "language": "python",
   "name": "python3"
  },
  "language_info": {
   "codemirror_mode": {
    "name": "ipython",
    "version": 3
   },
   "file_extension": ".py",
   "mimetype": "text/x-python",
   "name": "python",
   "nbconvert_exporter": "python",
   "pygments_lexer": "ipython3",
   "version": "3.10.10"
  },
  "orig_nbformat": 4,
  "vscode": {
   "interpreter": {
    "hash": "8a0b14c772f190ebb6bbf2f83cdd81d59d3d34c403400bf1214e4b9c72b50f24"
   }
  }
 },
 "nbformat": 4,
 "nbformat_minor": 2
}
