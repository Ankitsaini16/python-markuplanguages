{
 "cells": [
  {
   "cell_type": "code",
   "execution_count": null,
   "metadata": {},
   "outputs": [],
   "source": [
    "!curl https://raw.githubusercontent.com/tarun908/sample/main/sample.txt -o sample.txt\n",
    "file=open(\"sample.txt\",\"w\")\n",
    "# file=f.readline()\n",
    "# result=file.read()\n",
    "file.write(\"This is the write command \\n\")\n",
    "file.write(\"It allows us to write in a particular file\")\n",
    "# result=file.read(10)\n",
    "# print(result)\n",
    "file.close()\n",
    "# print (result)\n",
    "# for f in result:\n",
    "#     print(f)\n",
    "# data=f.read(10)\n",
    "# print(data.upper()) \n",
    "\n"
   ]
  },
  {
   "cell_type": "code",
   "execution_count": null,
   "metadata": {},
   "outputs": [],
   "source": [
    "year = 2017\n",
    "price = 2.42011\n",
    "print('The national average gas price in {:d} was $ {:f}'.format(year, price))\n",
    "year = 2017\n",
    "price = 2.42011\n",
    "print('The national average gas price in {0:d} was $ {1:3.2F}'.format(year, price))\n",
    "year = 2017\n",
    "price = 2.42011\n",
    "print('The national average gas price in {y:d} was $ {p:1.2e}'.format(y = year, p = price))\n",
    "year = 2017\n",
    "# price = 2.42011\n",
    "# print('The national average gas price in {:d} was $ {:010.2f}'.format(year, price))"
   ]
  },
  {
   "cell_type": "code",
   "execution_count": null,
   "metadata": {},
   "outputs": [],
   "source": [
    "#error handling in python with try and catch\n",
    "x=3\n",
    "y=0\n",
    "try:\n",
    "    print(x/y)\n",
    "except ZeroDivisionError:\n",
    "      print(\"cannot divide by zero\")\n",
    "else:\n",
    "    print(\"code is runnig\")\n",
    "\n"
   ]
  },
  {
   "cell_type": "code",
   "execution_count": null,
   "metadata": {},
   "outputs": [],
   "source": [
    "valid=False\n",
    "while not valid:\n",
    "    try:\n",
    "        x = int(input(\"Enter number between 1 to 100 \"))\n",
    "        if( (x < 1) or (x > 100)):\n",
    "            raise ValueError(\"Invalid input\")\n",
    "        valid=True\n",
    "    except ValueError as except_object:\n",
    "        print(except_object)\n",
    "\n",
    "print(\"x is accceptable\")\n",
    "    "
   ]
  },
  {
   "cell_type": "code",
   "execution_count": null,
   "metadata": {},
   "outputs": [],
   "source": [
    "lst1=[-4,-5,6,[6],\"hello\"]\n",
    "lst2=[5,-16,[6],\"hello\",\"goodbye\"]\n",
    "\n",
    "for i in range(7):\n",
    "    try:\n",
    "        print(lst1[i]+lst2[i])\n",
    "    except TypeError:\n",
    "        print(\"TypeError\")\n",
    "    except IndexError:\n",
    "        print(\"IndexError\")\n",
    "    except Exception as exception_object:\n",
    "        print(\"as exception_object\")\n",
    "\n",
    "print(\"done\")"
   ]
  },
  {
   "cell_type": "code",
   "execution_count": null,
   "metadata": {},
   "outputs": [],
   "source": [
    "#we cant use append function with tuple\n",
    "t=(10,20,30,40)\n",
    "# t.append(50)\n",
    "print (t)"
   ]
  },
  {
   "cell_type": "code",
   "execution_count": null,
   "metadata": {},
   "outputs": [],
   "source": [
    "t=([1,20])\n",
    "t[0]=[5.9,20.4]\n",
    "t[0][1]=59\n",
    "print(t)"
   ]
  },
  {
   "cell_type": "code",
   "execution_count": null,
   "metadata": {},
   "outputs": [],
   "source": [
    "t=(4,[5,6])\n",
    "print(6 in t)"
   ]
  },
  {
   "cell_type": "code",
   "execution_count": null,
   "metadata": {},
   "outputs": [],
   "source": [
    "groceries={'bread':2.26,'milk':3.62,'chocolate':1.59}\n",
    "\n",
    "item = input(\"please enter an item name: \").lower()\n",
    "\n",
    "if (item in groceries.keys()):\n",
    "  print(\"price of {} is: ${:4.2f}\".format(item,groceries[item]))\n",
    "elif (item not in groceries):\n",
    "  print(\"price not in the dictionary\")"
   ]
  },
  {
   "cell_type": "code",
   "execution_count": null,
   "metadata": {},
   "outputs": [],
   "source": [
    "groceries={'bread':2.26,'milk':3.62,'chocolate':1.59}\n",
    "\n",
    "item = input(\"please enter an item name: \")\n",
    "if(item in groceries):\n",
    "    price=float(input(\"please enter updated price\"))\n",
    "    groceries[item]=price\n",
    "    print(\"updated price is\",groceries[item])\n",
    "else:\n",
    "    print(\"item not found\")\n"
   ]
  },
  {
   "cell_type": "code",
   "execution_count": null,
   "metadata": {},
   "outputs": [],
   "source": [
    "import math\n",
    "x= -5\n",
    "print(math.fabs(x)) #returns absolute value\n",
    "# import math as ml\n",
    "from math import floor,ceil,trunc\n",
    "prize=213\n",
    "print(floor(prize/2))\n",
    "option2=ceil(213/2)\n",
    "option3=trunc(213/2)\n",
    "print(option3)\n",
    "print(option2)"
   ]
  },
  {
   "cell_type": "code",
   "execution_count": null,
   "metadata": {},
   "outputs": [],
   "source": [
    "from random import randint\n",
    "def die_roller():\n",
    "    return (randint(1,6))\n",
    "\n",
    "print(die_roller())"
   ]
  },
  {
   "cell_type": "code",
   "execution_count": null,
   "metadata": {},
   "outputs": [],
   "source": [
    "from random import choice\n",
    "def RPS():\n",
    "    options=[\"rock\",\"paper\",\"scissors\"]\n",
    "    player_choice=(choice(options))\n",
    "    return player_choice\n",
    "print(RPS())"
   ]
  },
  {
   "cell_type": "code",
   "execution_count": null,
   "metadata": {},
   "outputs": [],
   "source": [
    "table=[[5,5,8],[77,99,00]]\n",
    "for x in table:\n",
    "    for y in table:\n",
    "        print(y,\"\\t\")"
   ]
  },
  {
   "cell_type": "code",
   "execution_count": 11,
   "metadata": {},
   "outputs": [
    {
     "name": "stdout",
     "output_type": "stream",
     "text": [
      "paper\n"
     ]
    }
   ],
   "source": [
    "from random import randint\n",
    "user_choice=[\"rock\",\"paper\",\"scissors\"]\n",
    "player_choice=(user_choice[randint(0,2)])\n",
    "print(player_choice)"
   ]
  },
  {
   "cell_type": "code",
   "execution_count": 6,
   "metadata": {},
   "outputs": [
    {
     "name": "stdout",
     "output_type": "stream",
     "text": [
      "wrong pin\n",
      "wrong pin\n",
      "wrong pin\n",
      "your card is blocked\n"
     ]
    }
   ],
   "source": [
    "import requests\n",
    "pin=input(\"enter atm pin\")\n",
    "pin1=1100\n",
    "count=0\n",
    "for i in range(0,3,1):\n",
    "    if(pin==pin1):\n",
    "        break\n",
    "    else:\n",
    "        count=count+1\n",
    "        print(\"wrong pin\")\n",
    "        pin=input(\"enter pin again\")\n",
    "if(count==3):\n",
    "   print(\"your card is blocked\")"
   ]
  }
 ],
 "metadata": {
  "kernelspec": {
   "display_name": "Python 3",
   "language": "python",
   "name": "python3"
  },
  "language_info": {
   "codemirror_mode": {
    "name": "ipython",
    "version": 3
   },
   "file_extension": ".py",
   "mimetype": "text/x-python",
   "name": "python",
   "nbconvert_exporter": "python",
   "pygments_lexer": "ipython3",
   "version": "3.10.10"
  },
  "orig_nbformat": 4,
  "vscode": {
   "interpreter": {
    "hash": "8a0b14c772f190ebb6bbf2f83cdd81d59d3d34c403400bf1214e4b9c72b50f24"
   }
  }
 },
 "nbformat": 4,
 "nbformat_minor": 2
}
